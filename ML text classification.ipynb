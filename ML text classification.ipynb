{
 "cells": [
  {
   "cell_type": "code",
   "execution_count": 7,
   "metadata": {},
   "outputs": [],
   "source": [
    "import pandas as pd\n",
    "import numpy as np\n",
    "import seaborn as sns\n",
    "import matplotlib.pyplot as plt\n",
    "from sklearn.feature_extraction.text import CountVectorizer\n",
    "from sklearn import feature_extraction, linear_model, model_selection, preprocessing\n",
    "from sklearn.metrics import accuracy_score\n",
    "from sklearn.model_selection import train_test_split\n",
    "from sklearn.feature_extraction.text import TfidfTransformer\n",
    "from sklearn.pipeline import Pipeline\n",
    "from sklearn.svm import LinearSVC\n",
    "from sklearn.linear_model import LogisticRegression\n",
    "from sklearn.naive_bayes import GaussianNB\n",
    "from sklearn.naive_bayes import BernoulliNB\n",
    "from sklearn.naive_bayes import MultinomialNB\n",
    "from sklearn.naive_bayes import MultinomialNB\n",
    "\n",
    "from sklearn.ensemble import GradientBoostingClassifier\n",
    "from sklearn.tree import DecisionTreeClassifier\n",
    "from sklearn.neighbors import KNeighborsClassifier\n",
    "from xgboost import XGBClassifier\n",
    "from sklearn.linear_model import SGDClassifier\n",
    "from sklearn.ensemble import RandomForestClassifier\n",
    "from sklearn.preprocessing import LabelEncoder\n",
    "from sklearn.gaussian_process import GaussianProcessClassifier\n",
    "from keras.models import Model\n",
    "from keras.layers import LSTM, Activation, Dense, Dropout, Input, Embedding\n",
    "from keras.optimizers import RMSprop\n",
    "from keras.preprocessing.text import Tokenizer\n",
    "from keras.preprocessing import sequence\n",
    "from keras.callbacks import EarlyStopping\n",
    "\n",
    "from sklearn.metrics import accuracy_score, confusion_matrix,classification_report\n",
    "\n",
    "import nltk\n",
    "import nltk as nlp\n",
    "import string\n",
    "import re\n",
    "import pickle"
   ]
  },
  {
   "cell_type": "code",
   "execution_count": 3,
   "metadata": {},
   "outputs": [
    {
     "name": "stdout",
     "output_type": "stream",
     "text": [
      "<class 'pandas.core.frame.DataFrame'>\n",
      "RangeIndex: 68048 entries, 0 to 68047\n",
      "Data columns (total 5 columns):\n",
      " #   Column       Non-Null Count  Dtype \n",
      "---  ------       --------------  ----- \n",
      " 0   title        68048 non-null  object\n",
      " 1   summary      68048 non-null  object\n",
      " 2   category     68048 non-null  object\n",
      " 3   text         68048 non-null  object\n",
      " 4   category_id  68048 non-null  int64 \n",
      "dtypes: int64(1), object(4)\n",
      "memory usage: 2.6+ MB\n"
     ]
    }
   ],
   "source": [
    "df = pd.read_csv('DerSpiegel-utf-8.csv', encoding=\"utf-8\")\n",
    "\n",
    "df = df[['title', 'summary', 'category']].astype(str)\n",
    "df.drop_duplicates(keep=False, inplace=True)\n",
    "df.dropna(inplace=True)\n",
    "df = df.reindex(range(0,len(df)))\n",
    "\n",
    "df['text'] = df['title'] + \" \" + df['summary']\n",
    "\n",
    "\n",
    "df['category_id'] = df['category'].factorize()[0]\n",
    "# df.category_id.dropna\n",
    "\n",
    "df.info()"
   ]
  },
  {
   "cell_type": "code",
   "execution_count": 14,
   "metadata": {},
   "outputs": [
    {
     "data": {
      "text/html": [
       "<div>\n",
       "<style scoped>\n",
       "    .dataframe tbody tr th:only-of-type {\n",
       "        vertical-align: middle;\n",
       "    }\n",
       "\n",
       "    .dataframe tbody tr th {\n",
       "        vertical-align: top;\n",
       "    }\n",
       "\n",
       "    .dataframe thead th {\n",
       "        text-align: right;\n",
       "    }\n",
       "</style>\n",
       "<table border=\"1\" class=\"dataframe\">\n",
       "  <thead>\n",
       "    <tr style=\"text-align: right;\">\n",
       "      <th></th>\n",
       "      <th>title</th>\n",
       "      <th>summary</th>\n",
       "      <th>category</th>\n",
       "      <th>text</th>\n",
       "      <th>category_id</th>\n",
       "    </tr>\n",
       "  </thead>\n",
       "  <tbody>\n",
       "    <tr>\n",
       "      <th>0</th>\n",
       "      <td>Der verrohte Kontinent</td>\n",
       "      <td>Griechische Grenzschützer haben aller Wahrsche...</td>\n",
       "      <td>politik</td>\n",
       "      <td>Der verrohte Kontinent Griechische Grenzschütz...</td>\n",
       "      <td>0</td>\n",
       "    </tr>\n",
       "    <tr>\n",
       "      <th>5000</th>\n",
       "      <td>Warnung ohne Namen</td>\n",
       "      <td>\"A Warning\", eine Warnung: So heißt das jüngst...</td>\n",
       "      <td>politik</td>\n",
       "      <td>Warnung ohne Namen \"A Warning\", eine Warnung: ...</td>\n",
       "      <td>0</td>\n",
       "    </tr>\n",
       "    <tr>\n",
       "      <th>10000</th>\n",
       "      <td>Alle Bundesländer führen Maskenpflicht ein</td>\n",
       "      <td>Die Bundesländer sind sich einig, alle schreib...</td>\n",
       "      <td>panorama</td>\n",
       "      <td>Alle Bundesländer führen Maskenpflicht ein Die...</td>\n",
       "      <td>1</td>\n",
       "    </tr>\n",
       "    <tr>\n",
       "      <th>15000</th>\n",
       "      <td>Frauchen verliert Trennungsstreit um gemeinsam...</td>\n",
       "      <td>Ein Paar lässt sich scheiden, die gemeinsamen ...</td>\n",
       "      <td>panorama</td>\n",
       "      <td>Frauchen verliert Trennungsstreit um gemeinsam...</td>\n",
       "      <td>1</td>\n",
       "    </tr>\n",
       "    <tr>\n",
       "      <th>20000</th>\n",
       "      <td>Manchester City legt Berufung gegen Europapoka...</td>\n",
       "      <td>Der internationale Sportgerichtshof hat den Ei...</td>\n",
       "      <td>sport</td>\n",
       "      <td>Manchester City legt Berufung gegen Europapoka...</td>\n",
       "      <td>2</td>\n",
       "    </tr>\n",
       "    <tr>\n",
       "      <th>25000</th>\n",
       "      <td>Eine Karriere wie ein Slalomrennen</td>\n",
       "      <td>Felix Neureuther tritt als bester deutscher Sk...</td>\n",
       "      <td>sport</td>\n",
       "      <td>Eine Karriere wie ein Slalomrennen Felix Neure...</td>\n",
       "      <td>2</td>\n",
       "    </tr>\n",
       "    <tr>\n",
       "      <th>30000</th>\n",
       "      <td>SPD will Vorstandsgehälter deckeln</td>\n",
       "      <td>Mit einem Rettungsfonds soll der Bund bei klam...</td>\n",
       "      <td>wirtschaft</td>\n",
       "      <td>SPD will Vorstandsgehälter deckeln Mit einem R...</td>\n",
       "      <td>3</td>\n",
       "    </tr>\n",
       "    <tr>\n",
       "      <th>35000</th>\n",
       "      <td>TÜV Süd warnt vor weiteren Dammbrüchen</td>\n",
       "      <td>Nach der tödlichen Schlammlawine im brasiliani...</td>\n",
       "      <td>wirtschaft</td>\n",
       "      <td>TÜV Süd warnt vor weiteren Dammbrüchen Nach de...</td>\n",
       "      <td>3</td>\n",
       "    </tr>\n",
       "    <tr>\n",
       "      <th>40000</th>\n",
       "      <td>Facebook blendet Likes aus</td>\n",
       "      <td>Der Wettkampf um Likes soll eingedämmt werden:...</td>\n",
       "      <td>netzwelt</td>\n",
       "      <td>Facebook blendet Likes aus Der Wettkampf um Li...</td>\n",
       "      <td>4</td>\n",
       "    </tr>\n",
       "    <tr>\n",
       "      <th>45000</th>\n",
       "      <td>Wenn der Delfin das iPad mopst</td>\n",
       "      <td>Im Sommerloch ist nichts los? Stimmt nicht gan...</td>\n",
       "      <td>netzwelt</td>\n",
       "      <td>Wenn der Delfin das iPad mopst Im Sommerloch i...</td>\n",
       "      <td>4</td>\n",
       "    </tr>\n",
       "    <tr>\n",
       "      <th>50000</th>\n",
       "      <td>Klima-Freunde sind nicht eure Feinde</td>\n",
       "      <td>Manche der protestierenden Bauern und auch Tei...</td>\n",
       "      <td>wissenschaft</td>\n",
       "      <td>Klima-Freunde sind nicht eure Feinde Manche de...</td>\n",
       "      <td>5</td>\n",
       "    </tr>\n",
       "    <tr>\n",
       "      <th>55000</th>\n",
       "      <td>WHO legt neue Antibiotika-Richtlinie vor</td>\n",
       "      <td>Antibiotika sollten eigentlich nur bei Krankhe...</td>\n",
       "      <td>wissenschaft</td>\n",
       "      <td>WHO legt neue Antibiotika-Richtlinie vor Antib...</td>\n",
       "      <td>5</td>\n",
       "    </tr>\n",
       "    <tr>\n",
       "      <th>60000</th>\n",
       "      <td>Gefühlt drei Jahre</td>\n",
       "      <td>Die Bambi-Verleihung kränkelte auch in diesem ...</td>\n",
       "      <td>kultur</td>\n",
       "      <td>Gefühlt drei Jahre Die Bambi-Verleihung kränke...</td>\n",
       "      <td>6</td>\n",
       "    </tr>\n",
       "    <tr>\n",
       "      <th>65000</th>\n",
       "      <td>Internationaler Rudi-Carrell-Style</td>\n",
       "      <td>Jury-Silberrücken trifft auf Schnulzen-Otter: ...</td>\n",
       "      <td>kultur</td>\n",
       "      <td>Internationaler Rudi-Carrell-Style Jury-Silber...</td>\n",
       "      <td>6</td>\n",
       "    </tr>\n",
       "  </tbody>\n",
       "</table>\n",
       "</div>"
      ],
      "text/plain": [
       "                                                   title  \\\n",
       "0                                 Der verrohte Kontinent   \n",
       "5000                                  Warnung ohne Namen   \n",
       "10000         Alle Bundesländer führen Maskenpflicht ein   \n",
       "15000  Frauchen verliert Trennungsstreit um gemeinsam...   \n",
       "20000  Manchester City legt Berufung gegen Europapoka...   \n",
       "25000                 Eine Karriere wie ein Slalomrennen   \n",
       "30000                 SPD will Vorstandsgehälter deckeln   \n",
       "35000             TÜV Süd warnt vor weiteren Dammbrüchen   \n",
       "40000                         Facebook blendet Likes aus   \n",
       "45000                     Wenn der Delfin das iPad mopst   \n",
       "50000               Klima-Freunde sind nicht eure Feinde   \n",
       "55000           WHO legt neue Antibiotika-Richtlinie vor   \n",
       "60000                                 Gefühlt drei Jahre   \n",
       "65000                 Internationaler Rudi-Carrell-Style   \n",
       "\n",
       "                                                 summary      category  \\\n",
       "0      Griechische Grenzschützer haben aller Wahrsche...       politik   \n",
       "5000   \"A Warning\", eine Warnung: So heißt das jüngst...       politik   \n",
       "10000  Die Bundesländer sind sich einig, alle schreib...      panorama   \n",
       "15000  Ein Paar lässt sich scheiden, die gemeinsamen ...      panorama   \n",
       "20000  Der internationale Sportgerichtshof hat den Ei...         sport   \n",
       "25000  Felix Neureuther tritt als bester deutscher Sk...         sport   \n",
       "30000  Mit einem Rettungsfonds soll der Bund bei klam...    wirtschaft   \n",
       "35000  Nach der tödlichen Schlammlawine im brasiliani...    wirtschaft   \n",
       "40000  Der Wettkampf um Likes soll eingedämmt werden:...      netzwelt   \n",
       "45000  Im Sommerloch ist nichts los? Stimmt nicht gan...      netzwelt   \n",
       "50000  Manche der protestierenden Bauern und auch Tei...  wissenschaft   \n",
       "55000  Antibiotika sollten eigentlich nur bei Krankhe...  wissenschaft   \n",
       "60000  Die Bambi-Verleihung kränkelte auch in diesem ...        kultur   \n",
       "65000  Jury-Silberrücken trifft auf Schnulzen-Otter: ...        kultur   \n",
       "\n",
       "                                                    text  category_id  \n",
       "0      Der verrohte Kontinent Griechische Grenzschütz...            0  \n",
       "5000   Warnung ohne Namen \"A Warning\", eine Warnung: ...            0  \n",
       "10000  Alle Bundesländer führen Maskenpflicht ein Die...            1  \n",
       "15000  Frauchen verliert Trennungsstreit um gemeinsam...            1  \n",
       "20000  Manchester City legt Berufung gegen Europapoka...            2  \n",
       "25000  Eine Karriere wie ein Slalomrennen Felix Neure...            2  \n",
       "30000  SPD will Vorstandsgehälter deckeln Mit einem R...            3  \n",
       "35000  TÜV Süd warnt vor weiteren Dammbrüchen Nach de...            3  \n",
       "40000  Facebook blendet Likes aus Der Wettkampf um Li...            4  \n",
       "45000  Wenn der Delfin das iPad mopst Im Sommerloch i...            4  \n",
       "50000  Klima-Freunde sind nicht eure Feinde Manche de...            5  \n",
       "55000  WHO legt neue Antibiotika-Richtlinie vor Antib...            5  \n",
       "60000  Gefühlt drei Jahre Die Bambi-Verleihung kränke...            6  \n",
       "65000  Internationaler Rudi-Carrell-Style Jury-Silber...            6  "
      ]
     },
     "execution_count": 14,
     "metadata": {},
     "output_type": "execute_result"
    }
   ],
   "source": [
    "df[::5000]"
   ]
  },
  {
   "cell_type": "code",
   "execution_count": 4,
   "metadata": {},
   "outputs": [],
   "source": [
    "from sklearn.model_selection import train_test_split\n",
    "\n",
    "X = df['text']\n",
    "y = df['category_id']\n",
    "\n",
    "X_train, X_test, y_train, y_test = train_test_split(X, y, test_size=0.20, random_state =100)\n",
    "X_train, X_test, y_train, y_test = np.array(X_train), np.array(X_test), np.array(y_train), np.array(y_test)"
   ]
  },
  {
   "cell_type": "markdown",
   "metadata": {},
   "source": [
    "# Logistic Regression Classifier"
   ]
  },
  {
   "cell_type": "code",
   "execution_count": 6,
   "metadata": {},
   "outputs": [
    {
     "name": "stderr",
     "output_type": "stream",
     "text": [
      "C:\\Users\\amr.khalil\\AppData\\Local\\Continuum\\miniconda3\\envs\\gpu\\lib\\site-packages\\sklearn\\linear_model\\_logistic.py:940: ConvergenceWarning: lbfgs failed to converge (status=1):\n",
      "STOP: TOTAL NO. of ITERATIONS REACHED LIMIT.\n",
      "\n",
      "Increase the number of iterations (max_iter) or scale the data as shown in:\n",
      "    https://scikit-learn.org/stable/modules/preprocessing.html\n",
      "Please also refer to the documentation for alternative solver options:\n",
      "    https://scikit-learn.org/stable/modules/linear_model.html#logistic-regression\n",
      "  extra_warning_msg=_LOGISTIC_SOLVER_CONVERGENCE_MSG)\n"
     ]
    },
    {
     "name": "stdout",
     "output_type": "stream",
     "text": [
      "accuracy: 82.04%\n"
     ]
    }
   ],
   "source": [
    "pipe = Pipeline([('vect', CountVectorizer()),\n",
    "                 ('tfidf', TfidfTransformer()),\n",
    "                 ('model', LogisticRegression(max_iter=1000))])\n",
    "\n",
    "model = pipe.fit(X_train, y_train)\n",
    "prediction = model.predict(X_test)\n",
    "print(\"accuracy: {}%\".format(round(accuracy_score(y_test, prediction)*100,2)))"
   ]
  },
  {
   "cell_type": "code",
   "execution_count": 10,
   "metadata": {},
   "outputs": [
    {
     "name": "stdout",
     "output_type": "stream",
     "text": [
      "0.8203526818515797\n"
     ]
    }
   ],
   "source": [
    "# save the model to disk\n",
    "filename = 'LogisticRegressionModel.sav'\n",
    "pickle.dump(model, open(filename, 'wb'))\n",
    " \n",
    "# load the model from disk\n",
    "loaded_model = pickle.load(open(filename, 'rb'))\n",
    "result = loaded_model.score(X_test, y_test)\n",
    "print(result)"
   ]
  },
  {
   "cell_type": "code",
   "execution_count": 11,
   "metadata": {},
   "outputs": [
    {
     "name": "stdout",
     "output_type": "stream",
     "text": [
      "[[1491  136    6  116   25   89   53]\n",
      " [ 107 1441   23   75   43  107  126]\n",
      " [  13   35 1822   25   11   27   31]\n",
      " [ 128   62    7 1565   54   79   44]\n",
      " [  42   61   14   66 1647   52   78]\n",
      " [  72   93    8   85   46 1567   69]\n",
      " [  62  112   14   37   43   69 1632]]\n"
     ]
    }
   ],
   "source": [
    "print(confusion_matrix(y_test, prediction))"
   ]
  },
  {
   "cell_type": "code",
   "execution_count": 12,
   "metadata": {},
   "outputs": [
    {
     "name": "stdout",
     "output_type": "stream",
     "text": [
      "              precision    recall  f1-score   support\n",
      "\n",
      "           0       0.78      0.78      0.78      1916\n",
      "           1       0.74      0.75      0.75      1922\n",
      "           2       0.96      0.93      0.94      1964\n",
      "           3       0.79      0.81      0.80      1939\n",
      "           4       0.88      0.84      0.86      1960\n",
      "           5       0.79      0.81      0.80      1940\n",
      "           6       0.80      0.83      0.82      1969\n",
      "\n",
      "    accuracy                           0.82     13610\n",
      "   macro avg       0.82      0.82      0.82     13610\n",
      "weighted avg       0.82      0.82      0.82     13610\n",
      "\n"
     ]
    }
   ],
   "source": [
    "print(classification_report(y_test, prediction))"
   ]
  },
  {
   "cell_type": "markdown",
   "metadata": {},
   "source": [
    "# Support Vector Classifier"
   ]
  },
  {
   "cell_type": "code",
   "execution_count": 167,
   "metadata": {},
   "outputs": [
    {
     "name": "stdout",
     "output_type": "stream",
     "text": [
      "accuracy: 14.34%\n",
      "[[260 284 264 302 275 267 264]\n",
      " [241 279 287 303 246 288 278]\n",
      " [280 292 295 288 264 292 253]\n",
      " [243 281 258 313 272 278 294]\n",
      " [274 298 296 261 276 288 267]\n",
      " [264 296 289 253 265 279 294]\n",
      " [259 317 292 297 265 289 250]]\n",
      "              precision    recall  f1-score   support\n",
      "\n",
      "           0       0.14      0.14      0.14      1916\n",
      "           1       0.14      0.15      0.14      1922\n",
      "           2       0.15      0.15      0.15      1964\n",
      "           3       0.16      0.16      0.16      1939\n",
      "           4       0.15      0.14      0.14      1960\n",
      "           5       0.14      0.14      0.14      1940\n",
      "           6       0.13      0.13      0.13      1969\n",
      "\n",
      "    accuracy                           0.14     13610\n",
      "   macro avg       0.14      0.14      0.14     13610\n",
      "weighted avg       0.14      0.14      0.14     13610\n",
      "\n"
     ]
    }
   ],
   "source": [
    "pipe = Pipeline([('vect', CountVectorizer()),\n",
    "                 ('tfidf', TfidfTransformer()),\n",
    "                 ('model', LinearSVC())])\n",
    "\n",
    "model = pipe.fit(X_train, y_train)\n",
    "prediction = model.predict(X_test)\n",
    "print(\"accuracy: {}%\".format(round(accuracy_score(y_test, prediction)*100,2)))\n",
    "\n",
    "# save the model to disk\n",
    "filename = 'LinearSVC.sav'\n",
    "pickle.dump(model, open(filename, 'wb'))\n",
    "\n",
    "print(confusion_matrix(y_test, prediction))\n",
    "print(classification_report(y_test, prediction))"
   ]
  },
  {
   "cell_type": "code",
   "execution_count": 186,
   "metadata": {},
   "outputs": [
    {
     "data": {
      "text/plain": [
       "['politik']"
      ]
     },
     "execution_count": 186,
     "metadata": {},
     "output_type": "execute_result"
    }
   ],
   "source": [
    "id_to_category = {0:'politik', 1:'panorama', 2:'sport', 3:'wirtschaft',\n",
    "           4:'netzwelt', 5:'wissenschaft', 6:'kultur'}\n",
    "\n",
    "to_predict = [\"nobel\"]\n",
    "pred = model.predict(to_predict)\n",
    "classes = [id_to_category[i] for i in pred]\n",
    "classes"
   ]
  },
  {
   "cell_type": "markdown",
   "metadata": {},
   "source": [
    "# Multinomial Naive Bayes Classifier"
   ]
  },
  {
   "cell_type": "code",
   "execution_count": 18,
   "metadata": {},
   "outputs": [
    {
     "name": "stdout",
     "output_type": "stream",
     "text": [
      "accuracy: 82.17%\n",
      "[[1536  134   11  125   28   52   30]\n",
      " [ 131 1412   32   83   51  113  100]\n",
      " [  14   35 1843   21   16   19   16]\n",
      " [ 111   38   10 1630   68   58   24]\n",
      " [  52   51   18   72 1672   37   58]\n",
      " [  95   93   15  105   58 1542   32]\n",
      " [ 110  109   17   57   69   59 1548]]\n",
      "              precision    recall  f1-score   support\n",
      "\n",
      "           0       0.75      0.80      0.77      1916\n",
      "           1       0.75      0.73      0.74      1922\n",
      "           2       0.95      0.94      0.94      1964\n",
      "           3       0.78      0.84      0.81      1939\n",
      "           4       0.85      0.85      0.85      1960\n",
      "           5       0.82      0.79      0.81      1940\n",
      "           6       0.86      0.79      0.82      1969\n",
      "\n",
      "    accuracy                           0.82     13610\n",
      "   macro avg       0.82      0.82      0.82     13610\n",
      "weighted avg       0.82      0.82      0.82     13610\n",
      "\n"
     ]
    }
   ],
   "source": [
    "pipe = Pipeline([('vect', CountVectorizer()),\n",
    "                 ('tfidf', TfidfTransformer()),\n",
    "                 ('model', MultinomialNB())])\n",
    "\n",
    "model = pipe.fit(X_train, y_train)\n",
    "prediction = model.predict(X_test)\n",
    "print(\"accuracy: {}%\".format(round(accuracy_score(y_test, prediction)*100,2)))\n",
    "\n",
    "# save the model to disk\n",
    "filename = 'MultinomialNB.sav'\n",
    "pickle.dump(model, open(filename, 'wb'))\n",
    "\n",
    "print(confusion_matrix(y_test, prediction))\n",
    "print(classification_report(y_test, prediction))"
   ]
  },
  {
   "cell_type": "markdown",
   "metadata": {},
   "source": [
    "# Bernoulli Naive Bayes Classifier"
   ]
  },
  {
   "cell_type": "code",
   "execution_count": 20,
   "metadata": {},
   "outputs": [
    {
     "name": "stdout",
     "output_type": "stream",
     "text": [
      "accuracy: 81.7%\n",
      "[[1508  138    6  132   24   68   40]\n",
      " [ 119 1415   25   79   52  117  115]\n",
      " [  13   45 1803   33   20   22   28]\n",
      " [ 111   46    9 1610   66   70   27]\n",
      " [  57   67   14   71 1648   43   60]\n",
      " [  85   84   12  107   60 1559   33]\n",
      " [  86  106   14   47   77   62 1577]]\n",
      "              precision    recall  f1-score   support\n",
      "\n",
      "           0       0.76      0.79      0.77      1916\n",
      "           1       0.74      0.74      0.74      1922\n",
      "           2       0.96      0.92      0.94      1964\n",
      "           3       0.77      0.83      0.80      1939\n",
      "           4       0.85      0.84      0.84      1960\n",
      "           5       0.80      0.80      0.80      1940\n",
      "           6       0.84      0.80      0.82      1969\n",
      "\n",
      "    accuracy                           0.82     13610\n",
      "   macro avg       0.82      0.82      0.82     13610\n",
      "weighted avg       0.82      0.82      0.82     13610\n",
      "\n"
     ]
    }
   ],
   "source": [
    "pipe = Pipeline([('vect', CountVectorizer()),\n",
    "                 ('tfidf', TfidfTransformer()),\n",
    "                 ('model', BernoulliNB())])\n",
    "\n",
    "model = pipe.fit(X_train, y_train)\n",
    "prediction = model.predict(X_test)\n",
    "print(\"accuracy: {}%\".format(round(accuracy_score(y_test, prediction)*100,2)))\n",
    "\n",
    "print(confusion_matrix(y_test, prediction))\n",
    "print(classification_report(y_test, prediction))"
   ]
  },
  {
   "cell_type": "markdown",
   "metadata": {},
   "source": [
    "# Gradient Boost Classifier"
   ]
  },
  {
   "cell_type": "code",
   "execution_count": 29,
   "metadata": {},
   "outputs": [
    {
     "name": "stdout",
     "output_type": "stream",
     "text": [
      "accuracy: 38.43%\n"
     ]
    }
   ],
   "source": [
    "pipe = Pipeline([('vect', CountVectorizer()),\n",
    "                 ('tfidf', TfidfTransformer()),\n",
    "                 ('model', GradientBoostingClassifier(loss = 'deviance',\n",
    "                                                   learning_rate = 0.01,\n",
    "                                                   n_estimators = 10,\n",
    "                                                   max_depth = 5,\n",
    "                                                   random_state=55))])\n",
    "\n",
    "model = pipe.fit(X_train, y_train)\n",
    "prediction = model.predict(X_test)\n",
    "print(\"accuracy: {}%\".format(round(accuracy_score(y_test, prediction)*100,2)))"
   ]
  },
  {
   "cell_type": "markdown",
   "metadata": {},
   "source": [
    "# XGBoost Classifier"
   ]
  },
  {
   "cell_type": "code",
   "execution_count": 27,
   "metadata": {},
   "outputs": [
    {
     "name": "stdout",
     "output_type": "stream",
     "text": [
      "accuracy: 74.14%\n"
     ]
    }
   ],
   "source": [
    "pipe = Pipeline([('vect', CountVectorizer()),\n",
    "                 ('tfidf', TfidfTransformer()),\n",
    "                 ('model', XGBClassifier(objective='multi:softmax'))])\n",
    "\n",
    "model = pipe.fit(X_train, y_train)\n",
    "prediction = model.predict(X_test)\n",
    "print(\"accuracy: {}%\".format(round(accuracy_score(y_test, prediction)*100,2)))"
   ]
  },
  {
   "cell_type": "markdown",
   "metadata": {},
   "source": [
    "# Stochastic Gradient Descent"
   ]
  },
  {
   "cell_type": "code",
   "execution_count": 31,
   "metadata": {},
   "outputs": [
    {
     "name": "stdout",
     "output_type": "stream",
     "text": [
      "accuracy: 82.05%\n"
     ]
    }
   ],
   "source": [
    "pipe = Pipeline([('vect', CountVectorizer()),\n",
    "                 ('tfidf', TfidfTransformer()),\n",
    "                 ('model', SGDClassifier())])\n",
    "\n",
    "model = pipe.fit(X_train, y_train)\n",
    "prediction = model.predict(X_test)\n",
    "print(\"accuracy: {}%\".format(round(accuracy_score(y_test, prediction)*100,2)))"
   ]
  },
  {
   "cell_type": "markdown",
   "metadata": {},
   "source": [
    "# Random Forest Classifier"
   ]
  },
  {
   "cell_type": "code",
   "execution_count": 33,
   "metadata": {},
   "outputs": [
    {
     "name": "stdout",
     "output_type": "stream",
     "text": [
      "accuracy: 72.35%\n"
     ]
    }
   ],
   "source": [
    "pipe = Pipeline([('vect', CountVectorizer()),\n",
    "                 ('tfidf', TfidfTransformer()),\n",
    "                 ('model', RandomForestClassifier())])\n",
    "\n",
    "model = pipe.fit(X_train, y_train)\n",
    "prediction = model.predict(X_test)\n",
    "print(\"accuracy: {}%\".format(round(accuracy_score(y_test, prediction)*100,2)))"
   ]
  },
  {
   "cell_type": "markdown",
   "metadata": {},
   "source": [
    "# KNN Classifier"
   ]
  },
  {
   "cell_type": "code",
   "execution_count": 34,
   "metadata": {},
   "outputs": [
    {
     "name": "stdout",
     "output_type": "stream",
     "text": [
      "accuracy: 78.89%\n"
     ]
    }
   ],
   "source": [
    "pipe = Pipeline([('vect', CountVectorizer()),\n",
    "                 ('tfidf', TfidfTransformer()),\n",
    "                 ('model', KNeighborsClassifier(n_neighbors = 10,weights = 'distance',algorithm = 'brute'))])\n",
    "\n",
    "model = pipe.fit(X_train, y_train)\n",
    "prediction = model.predict(X_test)\n",
    "print(\"accuracy: {}%\".format(round(accuracy_score(y_test, prediction)*100,2)))"
   ]
  },
  {
   "cell_type": "markdown",
   "metadata": {},
   "source": [
    "# LSTM"
   ]
  },
  {
   "cell_type": "code",
   "execution_count": 42,
   "metadata": {},
   "outputs": [],
   "source": [
    "X = df['text'].values\n",
    "Y = df['category_id']\n",
    "le = LabelEncoder()\n",
    "Y = le.fit_transform(Y)\n",
    "Y = Y.reshape(-1,1)"
   ]
  },
  {
   "cell_type": "code",
   "execution_count": 163,
   "metadata": {},
   "outputs": [],
   "source": [
    "X_train,X_test,Y_train,Y_test = train_test_split(X,Y,test_size=0.20)\n",
    "max_words = 10000\n",
    "max_len = 200\n",
    "tok = Tokenizer(num_words=max_words)\n",
    "tok.fit_on_texts(X_train)\n",
    "sequences = tok.texts_to_sequences(X_train)\n",
    "sequences_matrix = sequence.pad_sequences(sequences,maxlen=max_len)\n",
    "def RNN():\n",
    "    inputs = Input(name='inputs',shape=[max_len])\n",
    "    layer = Embedding(max_words,50,input_length=max_len)(inputs)\n",
    "    layer = LSTM(64)(layer)\n",
    "    layer = Dense(256,name='FC1')(layer)\n",
    "    layer = Activation('relu')(layer)\n",
    "    layer = Dropout(0.5)(layer)\n",
    "    layer = Dense(7,name='out_layer')(layer)\n",
    "    layer = Activation('softmax')(layer)\n",
    "    model = Model(inputs=inputs,outputs=layer)\n",
    "    return model\n",
    "model = RNN()"
   ]
  },
  {
   "cell_type": "code",
   "execution_count": 164,
   "metadata": {},
   "outputs": [
    {
     "name": "stderr",
     "output_type": "stream",
     "text": [
      "C:\\Users\\amr.khalil\\AppData\\Local\\Continuum\\miniconda3\\envs\\gpu\\lib\\site-packages\\tensorflow_core\\python\\framework\\indexed_slices.py:433: UserWarning: Converting sparse IndexedSlices to a dense Tensor of unknown shape. This may consume a large amount of memory.\n",
      "  \"Converting sparse IndexedSlices to a dense Tensor of unknown shape. \"\n"
     ]
    },
    {
     "name": "stdout",
     "output_type": "stream",
     "text": [
      "Train on 43550 samples, validate on 10888 samples\n",
      "Epoch 1/3\n",
      "43550/43550 [==============================] - 74s 2ms/step - loss: 1.5193 - accuracy: 0.3819 - val_loss: 1.1482 - val_accuracy: 0.5574\n",
      "Epoch 2/3\n",
      "43550/43550 [==============================] - 74s 2ms/step - loss: 0.8692 - accuracy: 0.6949 - val_loss: 0.7809 - val_accuracy: 0.7345\n",
      "Epoch 3/3\n",
      "43550/43550 [==============================] - 75s 2ms/step - loss: 0.5967 - accuracy: 0.8039 - val_loss: 0.7867 - val_accuracy: 0.7273\n"
     ]
    }
   ],
   "source": [
    "model.compile(loss='sparse_categorical_crossentropy',optimizer=RMSprop(),metrics=['accuracy'])\n",
    "history = model.fit(sequences_matrix,Y_train,batch_size=256,epochs=3,\n",
    "          validation_split=0.2,callbacks=[EarlyStopping(monitor='val_loss',min_delta=0.0001)])"
   ]
  },
  {
   "cell_type": "code",
   "execution_count": 165,
   "metadata": {},
   "outputs": [
    {
     "name": "stdout",
     "output_type": "stream",
     "text": [
      "13610/13610 [==============================] - 14s 1ms/step\n",
      "Accuracy: 0.73\n"
     ]
    }
   ],
   "source": [
    "test_sequences = tok.texts_to_sequences(X_test)\n",
    "test_sequences_matrix = sequence.pad_sequences(test_sequences,maxlen=max_len)\n",
    "accr = model.evaluate(test_sequences_matrix,Y_test)\n",
    "print('Accuracy: {:0.2f}'.format(accr[1]))"
   ]
  },
  {
   "cell_type": "code",
   "execution_count": 166,
   "metadata": {},
   "outputs": [
    {
     "data": {
      "image/png": "[encoded data removed]",
      "text/plain": [
       "<Figure size 864x360 with 2 Axes>"
      ]
     },
     "metadata": {},
     "output_type": "display_data"
    }
   ],
   "source": [
    "import matplotlib.pyplot as plt\n",
    "plt.style.use('ggplot')\n",
    "\n",
    "def plot_history(history):\n",
    "    acc = history.history['accuracy']\n",
    "    val_acc = history.history['val_accuracy']\n",
    "    loss = history.history['loss']\n",
    "    val_loss = history.history['val_loss']\n",
    "    x = range(1, len(acc) + 1)\n",
    "\n",
    "    plt.figure(figsize=(12, 5))\n",
    "    plt.subplot(1, 2, 1)\n",
    "    plt.plot(x, acc, 'b', label='Training acc')\n",
    "    plt.plot(x, val_acc, 'r', label='Validation acc')\n",
    "    plt.title('Training and validation accuracy')\n",
    "    plt.legend()\n",
    "    plt.xlabel('Epochs')\n",
    "    plt.ylabel('Accuracy')\n",
    "    \n",
    "    plt.subplot(1, 2, 2)\n",
    "    plt.plot(x, loss, 'b', label='Training loss')\n",
    "    plt.plot(x, val_loss, 'r', label='Validation loss')\n",
    "    plt.title('Training and validation loss')\n",
    "    plt.legend()\n",
    "    plt.xlabel('Epochs')\n",
    "    plt.ylabel('Loss')\n",
    "    \n",
    "plot_history(history)"
   ]
  },
  {
   "cell_type": "code",
   "execution_count": 162,
   "metadata": {},
   "outputs": [
    {
     "name": "stdout",
     "output_type": "stream",
     "text": [
      "netzwelt 0.34 %\n",
      "kultur 0.19 %\n",
      "panorama 0.16 %\n"
     ]
    }
   ],
   "source": [
    "# Here's how to generate a prediction on individual examples\n",
    "#text_labels = encoder.classes_ \n",
    "id_to_category = {0:'politik', 1:'panorama', 2:'sport', 3:'wirtschaft',\n",
    "           4:'netzwelt', 5:'wissenschaft', 6:'kultur'}\n",
    "\n",
    "text =\"technology,facebook apple technology startup,\"\n",
    "test_sequences = tok.texts_to_sequences(text)\n",
    "test_sequences_matrix = sequence.pad_sequences(test_sequences,maxlen=max_len)\n",
    "preds = model.predict(test_sequences_matrix)[0]\n",
    "\n",
    "pred_classes = np.argsort(preds)[-3:][::-1]\n",
    "\n",
    "classes = [id_to_category[i] for i in pred_classes]\n",
    "props   = preds[pred_classes]\n",
    "\n",
    "for c, p in zip(classes, props):\n",
    "    print(\"{} {:.2f} %\".format(c,p))"
   ]
  },
  {
   "cell_type": "code",
   "execution_count": null,
   "metadata": {},
   "outputs": [],
   "source": []
  }
 ],
 "metadata": {
  "kernelspec": {
   "display_name": "gpu",
   "language": "python",
   "name": "gpu"
  },
  "language_info": {
   "codemirror_mode": {
    "name": "ipython",
    "version": 3
   },
   "file_extension": ".py",
   "mimetype": "text/x-python",
   "name": "python",
   "nbconvert_exporter": "python",
   "pygments_lexer": "ipython3",
   "version": "3.7.7"
  }
 },
 "nbformat": 4,
 "nbformat_minor": 4
}
